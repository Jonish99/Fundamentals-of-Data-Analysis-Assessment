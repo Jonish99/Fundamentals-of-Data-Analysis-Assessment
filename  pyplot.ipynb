{
 "cells": [
  {
   "cell_type": "markdown",
   "id": "111f8439-3d5e-4ba9-9513-984a75f89b99",
   "metadata": {},
   "source": [
    "### A demonstration of matplotlib.pyplot package \n",
    "\n",
    "Author: Jon Ishaque\n",
    "\n",
    "Commenced: 29th September 2021\n",
    "\n",
    "GMIT SID: G00398244\n",
    "\n",
    "Documentation (https://matplotlib.org/)"
   ]
  },
  {
   "cell_type": "code",
   "execution_count": 1,
   "id": "7b9ce0df-444e-43f4-a245-e97a0c699df3",
   "metadata": {},
   "outputs": [],
   "source": [
    "#plotting\n",
    "import matplotlib.pyplot as plt "
   ]
  },
  {
   "cell_type": "code",
   "execution_count": null,
   "id": "84283340-2115-4fa6-ac39-3d7ee4391422",
   "metadata": {},
   "outputs": [],
   "source": []
  },
  {
   "cell_type": "markdown",
   "id": "cc25e2a3-9f64-4535-80e7-9453652af6ae",
   "metadata": {},
   "source": [
    "---\n",
    "## References:\n",
    "[1]\n",
    "\n",
    "[2]\n",
    "\n",
    "[3]"
   ]
  },
  {
   "cell_type": "markdown",
   "id": "7d67b41e-35a9-4e7d-81fe-13f5e58b9740",
   "metadata": {},
   "source": [
    "### End"
   ]
  }
 ],
 "metadata": {
  "kernelspec": {
   "display_name": "Python 3",
   "language": "python",
   "name": "python3"
  },
  "language_info": {
   "codemirror_mode": {
    "name": "ipython",
    "version": 3
   },
   "file_extension": ".py",
   "mimetype": "text/x-python",
   "name": "python",
   "nbconvert_exporter": "python",
   "pygments_lexer": "ipython3",
   "version": "3.8.8"
  }
 },
 "nbformat": 4,
 "nbformat_minor": 5
}
