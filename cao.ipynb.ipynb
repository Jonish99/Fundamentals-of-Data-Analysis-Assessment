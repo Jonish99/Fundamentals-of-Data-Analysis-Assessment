{
 "cells": [
  {
   "cell_type": "markdown",
   "id": "15e8b6b3-4d32-44c2-a85f-e6da35747375",
   "metadata": {},
   "source": [
    "## A demonstration of PANDAS data frames used to investigate CAO points\n",
    "\n",
    "Author: Jon Ishaque\n",
    "Commenced: 29th September 2021\n",
    "GMIT SID: G00398244\n",
    "\n",
    " Documentation: https://pandas.pydata.org/docs/reference/api/pandas.DataFrame.html"
   ]
  },
  {
   "cell_type": "code",
   "execution_count": 1,
   "id": "f1f5a6e9-75a5-42f0-a2f7-7e0894675de7",
   "metadata": {},
   "outputs": [],
   "source": [
    "#dataframes\n",
    "import pandas as pd"
   ]
  },
  {
   "cell_type": "code",
   "execution_count": null,
   "id": "81d1d708-108b-4656-bb89-0f20d30ea3ac",
   "metadata": {},
   "outputs": [],
   "source": []
  },
  {
   "cell_type": "code",
   "execution_count": null,
   "id": "17f0efe6-01ef-4fd1-af96-9026c61f2983",
   "metadata": {},
   "outputs": [],
   "source": []
  },
  {
   "cell_type": "markdown",
   "id": "7c583d24-c845-47cd-a4a3-7daebabcf2f8",
   "metadata": {},
   "source": [
    "---\n",
    "## References:\n",
    "[1]\n",
    "\n",
    "[2]\n",
    "\n",
    "[3]"
   ]
  },
  {
   "cell_type": "markdown",
   "id": "8ac0a441-8ac1-47c6-8749-afaf0be36292",
   "metadata": {
    "tags": []
   },
   "source": [
    "## End"
   ]
  },
  {
   "cell_type": "code",
   "execution_count": null,
   "id": "a8001c47-4497-4881-999a-bc7345b02440",
   "metadata": {},
   "outputs": [],
   "source": []
  }
 ],
 "metadata": {
  "kernelspec": {
   "display_name": "Python 3",
   "language": "python",
   "name": "python3"
  },
  "language_info": {
   "codemirror_mode": {
    "name": "ipython",
    "version": 3
   },
   "file_extension": ".py",
   "mimetype": "text/x-python",
   "name": "python",
   "nbconvert_exporter": "python",
   "pygments_lexer": "ipython3",
   "version": "3.8.8"
  }
 },
 "nbformat": 4,
 "nbformat_minor": 5
}
