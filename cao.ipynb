{
 "cells": [
  {
   "cell_type": "markdown",
   "id": "15e8b6b3-4d32-44c2-a85f-e6da35747375",
   "metadata": {},
   "source": [
    "## A demonstration of PANDAS data frames used to investigate CAO points\n",
    "\n",
    "Author: Jon Ishaque\n",
    "Commenced: 29th September 2021\n",
    "GMIT SID: G00398244\n",
    "\n",
    "This notebook extracts CAO points from the CAO website for 2019, 2020 and 2021. It loads data into pandas dataframes and uses pandas and python to compare points from different years.\n",
    "\n",
    " Documentation: https://pandas.pydata.org/docs/reference/api/pandas.DataFrame.html"
   ]
  },
  {
   "cell_type": "code",
   "execution_count": 1,
   "id": "f1f5a6e9-75a5-42f0-a2f7-7e0894675de7",
   "metadata": {},
   "outputs": [],
   "source": [
    "# package for making http requests\n",
    "\n",
    "import requests as rq\n",
    "# Dates and time package\n",
    "import datetime as dt\n",
    "\n",
    "#dataframes\n",
    "import pandas as pd\n",
    "\n",
    "#import regex package for searching strings\n",
    "import re"
   ]
  },
  {
   "cell_type": "code",
   "execution_count": null,
   "id": "81d1d708-108b-4656-bb89-0f20d30ea3ac",
   "metadata": {},
   "outputs": [],
   "source": []
  },
  {
   "cell_type": "markdown",
   "id": "336fefee-76de-43b1-b5f3-377fcd3f791d",
   "metadata": {},
   "source": [
    "## 2021 points\n",
    "#http://www.cao.ie/index.php?page=points&p=2021\n",
    "The 2021 CAO points are presented in a web age. This part of the note part of the note book will load the web page content. A loop will read each line of web page and determine if it's content is relevant and write content to a csv file."
   ]
  },
  {
   "cell_type": "code",
   "execution_count": null,
   "id": "6e119e12-6f43-4635-b21c-cb7e11c977c4",
   "metadata": {},
   "outputs": [],
   "source": []
  },
  {
   "cell_type": "code",
   "execution_count": 2,
   "id": "6cf5367c-0e42-4e66-9729-0f963aeab1b3",
   "metadata": {
    "tags": []
   },
   "outputs": [
    {
     "data": {
      "text/plain": [
       "'text/html; charset=iso-8859-1'"
      ]
     },
     "execution_count": 2,
     "metadata": {},
     "output_type": "execute_result"
    }
   ],
   "source": [
    "#Get the web page\n",
    "#getheaders and determine contenttype [3]\n",
    "\n",
    "resp = rq.get('http://www2.cao.ie/points/l8.php', headers={\"content-type\":\"text\"})\n",
    "resp.headers['content-type']"
   ]
  },
  {
   "cell_type": "code",
   "execution_count": 3,
   "id": "13a130e7-0806-4a52-a391-688e97a0ca83",
   "metadata": {
    "tags": []
   },
   "outputs": [
    {
     "data": {
      "text/plain": [
       "<Response [200]>"
      ]
     },
     "execution_count": 3,
     "metadata": {},
     "output_type": "execute_result"
    }
   ],
   "source": [
    "#check the response\n",
    "resp"
   ]
  },
  {
   "cell_type": "markdown",
   "id": "5b736154-d5d5-436d-82de-71eaadf116de",
   "metadata": {},
   "source": [
    "The server says we should decode as per: *Content-Type: text/html; charset=iso-8859-1*\n",
    "However, one line uses \\x96 which isn't defined in iso-8859-1. Therefore we use the similar decoding standard cp1252, which is very similar but includes #x96. The character in question was had an Irish foda on a level 8 course"
   ]
  },
  {
   "cell_type": "code",
   "execution_count": 4,
   "id": "b7359167-7008-4f5f-a50c-33ab8c7df7e7",
   "metadata": {},
   "outputs": [],
   "source": [
    "# Save the oringinal encoding\n",
    "original_encoding = resp.encoding\n",
    "\n",
    "# Change to cp1252, which handles accented characters\n",
    "resp.encoding = 'cp1252'"
   ]
  },
  {
   "cell_type": "markdown",
   "id": "4ace62ef-a7fc-4ecb-a031-85025c2fd75d",
   "metadata": {},
   "source": [
    "Create a string var,*now*. this is use in file names of back up copies of CAO points."
   ]
  },
  {
   "cell_type": "code",
   "execution_count": 5,
   "id": "b1670e56-6d1f-41e0-82ab-48192b915c05",
   "metadata": {},
   "outputs": [],
   "source": [
    "# Get the current date and time.\n",
    "\n",
    "now = dt.datetime.now()\n",
    "\n",
    "# Format as a string.\n",
    "nowstr = now.strftime('%Y%m%d_%H%M%S')\n",
    "\n"
   ]
  },
  {
   "cell_type": "code",
   "execution_count": 6,
   "id": "2825d69b-1a47-4a48-9a11-2e0f7abdc438",
   "metadata": {},
   "outputs": [],
   "source": [
    "# Create a file path for the original data. 2021\n",
    "path = 'data/cao2021_' + nowstr + '.html'"
   ]
  },
  {
   "cell_type": "markdown",
   "id": "fc2d2445-8646-41dd-b172-59d1aedb3133",
   "metadata": {},
   "source": [
    "\n"
   ]
  },
  {
   "cell_type": "code",
   "execution_count": null,
   "id": "ff357cff-6f33-425b-a1a6-5367402f82b5",
   "metadata": {},
   "outputs": [],
   "source": []
  },
  {
   "cell_type": "code",
   "execution_count": null,
   "id": "8d1e7d60-4299-42b1-9af8-8ab745168fdb",
   "metadata": {},
   "outputs": [],
   "source": []
  },
  {
   "cell_type": "code",
   "execution_count": 7,
   "id": "b3519d84-6601-4a98-8ec7-bfb5f0cb9ae7",
   "metadata": {
    "tags": []
   },
   "outputs": [],
   "source": [
    "# Save the original html file.\n",
    "with open(path, 'w') as f:\n",
    "    f.write(resp.text)"
   ]
  },
  {
   "cell_type": "markdown",
   "id": "1ac1c050-a5d7-435b-9a47-843528f77676",
   "metadata": {},
   "source": [
    "###### Compile the regular expression so it is not compiled at each interation of the loop reading the webpage"
   ]
  },
  {
   "cell_type": "markdown",
   "id": "c6aaa91d-c89c-4a91-a669-e0e5829be163",
   "metadata": {},
   "source": [
    "###### Explanation of the regualar expression [4][5]:\n",
    "('[A-Z]{2}[0-9]{3} (.*)([0-9]{3})(\\*)? *')</span>\n",
    "\n",
    "[A-Z]{2}        Any two upper case aphanumberic\n",
    "\n",
    "[0-9]{3}        Any three digits 0-9\n",
    "\n",
    "'  '            Two spaces\n",
    "\n",
    "(.*)([0-9]{3})   Any amount of text before 3 numeric characters\n",
    "\n",
    "(\\*)?               An optional asterix in the text\n",
    "\n",
    "\\*                  Anything else\n",
    "    </font>"
   ]
  },
  {
   "cell_type": "code",
   "execution_count": 8,
   "id": "e78b1faf-cb9c-4494-9a9c-f19b73739946",
   "metadata": {},
   "outputs": [],
   "source": [
    "#set reg ex\n",
    "re_courses = re.compile('[A-Z]{2}[0-9]{3} (.*)([0-9]{3})(\\*)? *') #[4]\n",
    "\n",
    "\n"
   ]
  },
  {
   "cell_type": "markdown",
   "id": "b9fc2126-9021-4ecb-969e-a00939eb119b",
   "metadata": {},
   "source": [
    "The following block of code iterates through each line of the csv file "
   ]
  },
  {
   "cell_type": "code",
   "execution_count": 15,
   "id": "6a69844e-746d-4123-a633-6417ccb8f2a7",
   "metadata": {},
   "outputs": [
    {
     "name": "stdout",
     "output_type": "stream",
     "text": [
      "number of lines is {922}\n"
     ]
    }
   ],
   "source": [
    "\n",
    "\n",
    "# The file path for the csv file.\n",
    "path = 'data/cao2021_csv_' + nowstr + '.csv'\n",
    "#resp.text\n",
    "#loop through response text lines\n",
    "\n",
    "#bytes problem\n",
    "#set var to count lines for cross check with webpage\n",
    "no_lines = 0\n",
    "with open(path, 'w') as f:\n",
    "    #write csv header\n",
    "    for line in resp.iter_lines():\n",
    "        #\n",
    "      \n",
    "             \n",
    "            #so convert str to bytes\n",
    "         \n",
    "            #print (line)\n",
    "        dline = line.decode('cp1252')\n",
    "        #check if line mathces reg exp pattern. If so, do something.\n",
    "        if re_courses.fullmatch(dline):\n",
    "            no_lines +=1\n",
    "            # Split the line on two or more spaces.\n",
    "            linesplit = re.split('  +', dline)\n",
    "            #show line\n",
    "            #print((','.join(linesplit) + '\\n'))\n",
    "            # Rejoin the substrings with commas in between. ie.comma separated\n",
    "            f.write(','.join(linesplit) + '\\n')\n",
    "print (f\"number of lines is\", {no_lines})\n",
    "#check this number is correct"
   ]
  },
  {
   "cell_type": "markdown",
   "id": "7c583d24-c845-47cd-a4a3-7daebabcf2f8",
   "metadata": {},
   "source": [
    "---\n",
    "## References:\n",
    "[1]\n",
    "\n",
    "[2]\n",
    "\n",
    "[3] https://docs.python-requests.org/en/latest/index.html"
   ]
  },
  {
   "cell_type": "markdown",
   "id": "3bb331ea-4c98-44b7-81ff-ce8559b6067b",
   "metadata": {},
   "source": [
    "[4] https://docs.python.org/3/library/re.html"
   ]
  },
  {
   "cell_type": "markdown",
   "id": "4c5ea660-9a7c-436b-a22b-43dcca743b9a",
   "metadata": {},
   "source": [
    "[5] https://docs.python.org/3/library/re.html?highlight=re%20match#re.match"
   ]
  },
  {
   "cell_type": "code",
   "execution_count": null,
   "id": "6133b32c-1f0f-4ef2-81cb-457268cb59f7",
   "metadata": {},
   "outputs": [],
   "source": []
  },
  {
   "cell_type": "code",
   "execution_count": null,
   "id": "0cc98290-918e-44dd-80c2-a5413feba5d6",
   "metadata": {},
   "outputs": [],
   "source": []
  },
  {
   "cell_type": "code",
   "execution_count": null,
   "id": "04bd1752-7acc-41dd-8245-6c74fca7a208",
   "metadata": {},
   "outputs": [],
   "source": []
  },
  {
   "cell_type": "markdown",
   "id": "8ac0a441-8ac1-47c6-8749-afaf0be36292",
   "metadata": {
    "tags": []
   },
   "source": [
    "## End"
   ]
  },
  {
   "cell_type": "code",
   "execution_count": null,
   "id": "a8001c47-4497-4881-999a-bc7345b02440",
   "metadata": {},
   "outputs": [],
   "source": []
  }
 ],
 "metadata": {
  "kernelspec": {
   "display_name": "Python 3",
   "language": "python",
   "name": "python3"
  },
  "language_info": {
   "codemirror_mode": {
    "name": "ipython",
    "version": 3
   },
   "file_extension": ".py",
   "mimetype": "text/x-python",
   "name": "python",
   "nbconvert_exporter": "python",
   "pygments_lexer": "ipython3",
   "version": "3.8.8"
  }
 },
 "nbformat": 4,
 "nbformat_minor": 5
}
