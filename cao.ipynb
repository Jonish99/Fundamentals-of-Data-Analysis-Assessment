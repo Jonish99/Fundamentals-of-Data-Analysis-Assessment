{
 "cells": [
  {
   "cell_type": "markdown",
   "id": "15e8b6b3-4d32-44c2-a85f-e6da35747375",
   "metadata": {},
   "source": [
    "## A demonstration of PANDAS data frames used to investigate CAO points\n",
    "\n",
    "Author: Jon Ishaque\n",
    "Commenced: 29th September 2021\n",
    "GMIT SID: G00398244\n",
    "\n",
    "This notebook extracts CAO points from the CAO website for 2019, 2020 and 2021. It loads data into pandas dataframes and uses pandas and python to compare points from different years.\n",
    "\n",
    " Documentation: https://pandas.pydata.org/docs/reference/api/pandas.DataFrame.html"
   ]
  },
  {
   "cell_type": "code",
   "execution_count": 49,
   "id": "f1f5a6e9-75a5-42f0-a2f7-7e0894675de7",
   "metadata": {},
   "outputs": [],
   "source": [
    "# package for making http requests\n",
    "\n",
    "import requests as rq\n",
    "# Dates and time package\n",
    "import datetime as dt\n",
    "\n",
    "#dataframes\n",
    "import pandas as pd\n",
    "\n",
    "#import regex package for searching strings\n",
    "import re\n",
    "\n",
    "#import csv, deals with commas when writing to file\n",
    "import csv"
   ]
  },
  {
   "cell_type": "code",
   "execution_count": null,
   "id": "81d1d708-108b-4656-bb89-0f20d30ea3ac",
   "metadata": {},
   "outputs": [],
   "source": []
  },
  {
   "cell_type": "markdown",
   "id": "336fefee-76de-43b1-b5f3-377fcd3f791d",
   "metadata": {},
   "source": [
    "## 2021 points\n",
    "#http://www.cao.ie/index.php?page=points&p=2021\n",
    "The 2021 CAO points are presented in a web page. "
   ]
  },
  {
   "cell_type": "code",
   "execution_count": null,
   "id": "6e119e12-6f43-4635-b21c-cb7e11c977c4",
   "metadata": {},
   "outputs": [],
   "source": []
  },
  {
   "cell_type": "code",
   "execution_count": null,
   "id": "6cf5367c-0e42-4e66-9729-0f963aeab1b3",
   "metadata": {
    "tags": []
   },
   "outputs": [],
   "source": []
  },
  {
   "cell_type": "code",
   "execution_count": null,
   "id": "13a130e7-0806-4a52-a391-688e97a0ca83",
   "metadata": {
    "tags": []
   },
   "outputs": [],
   "source": []
  },
  {
   "cell_type": "markdown",
   "id": "5b736154-d5d5-436d-82de-71eaadf116de",
   "metadata": {},
   "source": [
    "The page header from the server should decode as per: *Content-Type: text/html; charset=iso-8859-1*\n",
    "However, one line uses \\x96 which isn't defined in iso-8859-1. Therefore we use the similar decoding standard cp1252, which is very similar but includes #x96. The character in question was had an Irish foda on a level 8 course"
   ]
  },
  {
   "cell_type": "code",
   "execution_count": 50,
   "id": "b7359167-7008-4f5f-a50c-33ab8c7df7e7",
   "metadata": {},
   "outputs": [],
   "source": [
    "#\n"
   ]
  },
  {
   "cell_type": "markdown",
   "id": "4ace62ef-a7fc-4ecb-a031-85025c2fd75d",
   "metadata": {},
   "source": [
    "Create a string var,*now*. this is use in file names of back up copies of CAO points."
   ]
  },
  {
   "cell_type": "code",
   "execution_count": 51,
   "id": "b1670e56-6d1f-41e0-82ab-48192b915c05",
   "metadata": {},
   "outputs": [],
   "source": [
    "# Get the current date and time.\n",
    "\n",
    "now = dt.datetime.now()\n",
    "\n",
    "# Format as a string.\n",
    "#global as used in functions\n",
    "global nowstr\n",
    "nowstr = now.strftime('%Y%m%d_%H%M%S')\n",
    "\n"
   ]
  },
  {
   "cell_type": "code",
   "execution_count": null,
   "id": "2825d69b-1a47-4a48-9a11-2e0f7abdc438",
   "metadata": {},
   "outputs": [],
   "source": []
  },
  {
   "cell_type": "markdown",
   "id": "fc2d2445-8646-41dd-b172-59d1aedb3133",
   "metadata": {},
   "source": [
    "\n"
   ]
  },
  {
   "cell_type": "code",
   "execution_count": null,
   "id": "8d1e7d60-4299-42b1-9af8-8ab745168fdb",
   "metadata": {},
   "outputs": [],
   "source": []
  },
  {
   "cell_type": "code",
   "execution_count": null,
   "id": "b3519d84-6601-4a98-8ec7-bfb5f0cb9ae7",
   "metadata": {
    "tags": []
   },
   "outputs": [],
   "source": []
  },
  {
   "cell_type": "markdown",
   "id": "1ac1c050-a5d7-435b-9a47-843528f77676",
   "metadata": {},
   "source": [
    "###### Compile the regular expression so it is not compiled at each interation of the loop reading the webpage"
   ]
  },
  {
   "cell_type": "markdown",
   "id": "c6aaa91d-c89c-4a91-a669-e0e5829be163",
   "metadata": {},
   "source": [
    "###### Explanation of the regualar expression [4][5]:\n",
    "('[A-Z]{2}[0-9]{3} (.*)([0-9]{3}))</span>\n",
    "\n",
    "[A-Z]{2}        Any two upper case aphanumberic\n",
    "\n",
    "[0-9]{3}        Any three digits 0-9\n",
    "\n",
    "'  '            Two spaces\n",
    "\n",
    "(.*)([0-9]{3})   Any amount of text before 3 numeric characters\n",
    "\n",
    "\n",
    "    </font>"
   ]
  },
  {
   "cell_type": "code",
   "execution_count": 52,
   "id": "e78b1faf-cb9c-4494-9a9c-f19b73739946",
   "metadata": {},
   "outputs": [],
   "source": [
    "#set reg ex\n",
    "re_courses = re.compile('[A-Z]{2}[0-9]{3} (.*)') #[4]\n",
    "\n",
    "\n"
   ]
  },
  {
   "cell_type": "code",
   "execution_count": 53,
   "id": "2a4f57be-a30d-4221-94a5-610a6d31fb1d",
   "metadata": {
    "tags": []
   },
   "outputs": [],
   "source": [
    "#Function to get HEI name from course code. using a switcher dict as\n",
    "#oppose to messy if/else block\n",
    "#https://www.upgrad.com/blog/how-to-implement-switch-case-functions-in-python/\n",
    "def getHEI(cc):\n",
    "    switcher = {'AC' : 'American College',\n",
    "    'AD' : 'National College of Art and Design',\n",
    "    'AL' : 'Athlone Institute of Technology',\n",
    "    'AS' : 'St. Angela`s College',\n",
    "    'CI' : 'Irish College of Humanities & Applied Sciences',\n",
    "    'BY' : 'IBAT College Dublin',\n",
    "    'CK' : 'University College Cork (NUI)',\n",
    "    'CM' : 'Marino Institute of Education',\n",
    "    'CR' : 'Cork Institute of Technology',\n",
    "    'CT' : 'CCT College Dublin',\n",
    "    'CW' : 'Institute of Technology Carlow',\n",
    "    'DB' : 'Dublin Business School',\n",
    "    'DC' : 'Dublin City University',\n",
    "    'DK' : 'Dundalk Institute of Technology',\n",
    "    'DL' : 'Dun Laoghaire Institute of Art Design and Technology',\n",
    "    'DN' : 'University College Dublin (NUI)',\n",
    "    'DS' : 'Dorset College',\n",
    "    'GA' : 'Galway-Mayo Institute of Technology',\n",
    "    'GB' : 'Galway Business School',\n",
    "    'GC' : 'Griffith College',\n",
    "    'GY' : 'National University of Ireland Galway',\n",
    "    'ID' : 'ICD Business School',\n",
    "    'LC' : 'Limerick Institute of Technology',\n",
    "    'LM' : 'University of Limerick',\n",
    "    'LY' : 'Letterkenny Institute of Technology',\n",
    "    'MH' : 'Maynooth University',\n",
    "    'MI' : 'Mary Immaculate College',\n",
    "    'MU' : 'Pontifical University St Patricks College',\n",
    "    'NC' : 'National College of Ireland (NCI)',\n",
    "    'NM' : 'St Nicholas Montessori College Ireland',\n",
    "    'PC' : 'Carlow College St. Patricks',\n",
    "    'RC' : 'RCSI University of Medicine & Health Sciences',\n",
    "    'SG' : 'Institute of Technology Sligo',\n",
    "    'TL' : 'Institute of Technology Tralee',\n",
    "    'TR' : 'Trinity College Dublin',\n",
    "    'TU' : 'Technological University Dublin',\n",
    "    'WD' : 'Waterford Institute of Technology'\n",
    "    }\n",
    "\n",
    "    cc = cc[:2]\n",
    "    return  switcher.get(cc)\n",
    "\n",
    "#print(HEI('WD123123'))\n"
   ]
  },
  {
   "cell_type": "code",
   "execution_count": 54,
   "id": "68bc80e0-02ce-43e7-a4be-75fc94bc72d2",
   "metadata": {},
   "outputs": [],
   "source": [
    "#helper\n",
    "def points_to_arr(s):\n",
    "    AQA=''\n",
    "    portfolio =''\n",
    "    points=''\n",
    "    random = ''\n",
    "    #check 1st char for #\n",
    "    #print(s)\n",
    "    if s[0]=='#':\n",
    "        portfolio='#'# add to var\n",
    "    random = ''\n",
    "    #check final char for  *\n",
    "    if s[-1] == '*':\n",
    "        random ='*'\n",
    "    points=''\n",
    "    \n",
    "    if s.find(\"AQA\") ==-1: #not AQA\n",
    "        #strip ~ and * from start and end of s\n",
    "        for i in s:\n",
    "            if i.isdigit():\n",
    "                #concat points string\n",
    "                points = points + i\n",
    "    else:\n",
    "        AQA =\"AQA\" #return AQA as separate val as it will be separate column\n",
    "        #return\n",
    "    return [points, portfolio, random,AQA]"
   ]
  },
  {
   "cell_type": "markdown",
   "id": "b9fc2126-9021-4ecb-969e-a00939eb119b",
   "metadata": {},
   "source": [
    "The following block of code iterates through each line of the csv file "
   ]
  },
  {
   "cell_type": "markdown",
   "id": "e5f644b8-b265-4f9f-99f2-b1f1d2060fbb",
   "metadata": {},
   "source": [
    "This part of the note part of the note book will load the web page content. A loop will read each line of web page and determine if it's content is relevant and write content to a csv file."
   ]
  },
  {
   "cell_type": "code",
   "execution_count": 55,
   "id": "6a69844e-746d-4123-a633-6417ccb8f2a7",
   "metadata": {},
   "outputs": [],
   "source": [
    "#MAKE THIS BLOCK A FUNCTION AS REPEATING IT FOR L8 and L6/7\n",
    "#get a save the csv names to paths\n",
    "global csv_files\n",
    "csv_files = []\n",
    "def createCSV(path):\n",
    "    print (path)\n",
    "    #Get the both level 8 and 6/7 web pages\n",
    "    #getheaders and determine contenttype [3]\n",
    "\n",
    "    \n",
    "    \n",
    "#respL8.headers['content-type']\n",
    "        \n",
    "   \n",
    "    #resp.text\n",
    "    #loop through response text lines\n",
    "    #get level\n",
    "    print (path)\n",
    "    \n",
    "    if path.find('L8') >= 0 :\n",
    "        #print (path)\n",
    "        level = '8'\n",
    "        \n",
    "        resp = rq.get('http://www2.cao.ie/points/l8.php', \n",
    "                      headers={\"content-type\":\"text\"})\n",
    "        \n",
    "    elif path.find('L67') >= 0 :\n",
    "        #print (path)\n",
    "        level ='6/7'\n",
    "        \n",
    "        resp = rq.get('http://www2.cao.ie/points/l76.php', \n",
    "                      headers={\"content-type\":\"text\"})\n",
    "    else:\n",
    "        level = ''\n",
    "        \n",
    "    \n",
    "    original_encoding = resp.encoding\n",
    "    # Change to cp1252, which handles accented characters\n",
    "    resp.encoding = 'cp1252'\n",
    "     # Create a file path for the original data. 2021\n",
    "    pathhtml = path + nowstr + '.html'\n",
    "    # Save the original html file.\n",
    "    with open(pathhtml, 'w') as f:\n",
    "        f.write(resp.text)\n",
    "\n",
    "    #set var to count lines for cross check with webpage\n",
    "    no_lines = 0\n",
    "    path = path+'.csv'\n",
    "    #add csv name to array\n",
    "    csv_files.append(path)\n",
    "    with open(path, 'w') as f:\n",
    "        #write csv header\n",
    "        linesplit = ['Course code','Course title','Round 1',\n",
    "                     'Portfolios_other1','Random 1','AQA1','Round 2',\n",
    "                     'Portfolios_other2','Random 2','AQA2',\n",
    "                     'HEI','Level','Year']\n",
    "        f.write(','.join(linesplit) + '\\n')\n",
    "        for line in resp.iter_lines():\n",
    "            #\n",
    "\n",
    "            #problem with bytes\n",
    "            #so convert str to bytes\n",
    "            #print (line)\n",
    "            dline = line.decode('cp1252')\n",
    "            #check if line mathces reg exp pattern. If so, do something.\n",
    "            if re_courses.fullmatch(dline):\n",
    "                no_lines +=1\n",
    "                #get first five chars - course code\n",
    "                course_code = dline[:5]\n",
    "                #course title\n",
    "                course_title = dline[7:57]\n",
    "                #r1 points\n",
    "                round_1 = dline[60:65].rstrip() # get five chars, remove white space\n",
    "                #if round 1 not blank call fn points_to_arr\n",
    "                if len(round_1) > 0:\n",
    "                    round_1= points_to_arr(round_1)\n",
    "                    #assign vals from returned array\n",
    "                    pts1 = round_1[0]\n",
    "                    plo1 = round_1[1]\n",
    "                    rnd1 = round_1[2]\n",
    "                    AQA1 = round_1[3]\n",
    "                else: \n",
    "                    pts1 = ''\n",
    "                    plo1 = ''\n",
    "                    rnd1 = ''\n",
    "                    AQA1 = ''\n",
    "                #r2 points\n",
    "                round_2 = dline[67:].rstrip() # get four chars, remove white space\n",
    "                #if round 2 not blank call fn points_to_arr\n",
    "                if len(round_2) > 0:\n",
    "                    round_2= points_to_arr(round_2)\n",
    "                    #assign vals from returned array\n",
    "                    pts2 = round_2[0]\n",
    "                    plo2 = round_2[1]\n",
    "                    rnd2 = round_2[2]\n",
    "                    AQA2 = round_2[3]\n",
    "                else: \n",
    "                    pts2 = ''\n",
    "                    plo2 = ''\n",
    "                    rnd2 = ''\n",
    "                    AQA2 = ''\n",
    "                #print (course_code)\n",
    "                #get the instituion name\n",
    "                HEI =getHEI(course_code)\n",
    "                #print (HEI)\n",
    "                # create an array of the fields for the csv line\n",
    "                linesplit = [course_code,course_title,pts1,plo1,rnd1,AQA2,pts2,plo2,rnd2,AQA2,HEI,level,'2021']\n",
    "                #print (linesplit)\n",
    "                #debug\n",
    "                #print(f\"'{course_code} {dline} r1: {round_1} r2: {round_2}'\")\n",
    "               # print((','.join(linesplit) + '\\n'))\n",
    "                # Rejoin the array values with commas in between. ie.comma separated\n",
    "                f.write(','.join(linesplit) + '\\n')\n",
    "    print (f\"number of lines is\", {no_lines})\n",
    "    path=''\n",
    "#check this number is correct\n"
   ]
  },
  {
   "cell_type": "code",
   "execution_count": 56,
   "id": "b7746fce-9d1c-48bb-ad93-f4e8d46ca31a",
   "metadata": {},
   "outputs": [
    {
     "name": "stdout",
     "output_type": "stream",
     "text": [
      "data/cao2021_L8_20211116_120515\n",
      "data/cao2021_L8_20211116_120515\n",
      "number of lines is {949}\n",
      "data/cao2021_L67_20211116_120515\n",
      "data/cao2021_L67_20211116_120515\n",
      "number of lines is {416}\n"
     ]
    }
   ],
   "source": [
    "# The file path for the csv file.\n",
    "pathL8 = 'data/cao2021_L8_' + nowstr \n",
    "pathL67 ='data/cao2021_L67_' + nowstr \n",
    "\n",
    "createCSV(pathL8)\n",
    "createCSV(pathL67)"
   ]
  },
  {
   "cell_type": "markdown",
   "id": "7c583d24-c845-47cd-a4a3-7daebabcf2f8",
   "metadata": {},
   "source": [
    "#### NB: 949 L8 courses on CAO website verified on 10th November 2021\n",
    "#### 416 L6/7 courses on CAO website verified on 15th November 2021"
   ]
  },
  {
   "cell_type": "markdown",
   "id": "3bb331ea-4c98-44b7-81ff-ce8559b6067b",
   "metadata": {},
   "source": [
    " "
   ]
  },
  {
   "cell_type": "markdown",
   "id": "4c5ea660-9a7c-436b-a22b-43dcca743b9a",
   "metadata": {},
   "source": [
    "Join L8 & L6/7 courses into one dataframe"
   ]
  },
  {
   "cell_type": "code",
   "execution_count": null,
   "id": "6133b32c-1f0f-4ef2-81cb-457268cb59f7",
   "metadata": {},
   "outputs": [],
   "source": []
  },
  {
   "cell_type": "code",
   "execution_count": 57,
   "id": "9fa70f32-034d-43a6-94e0-ebbbc9397a41",
   "metadata": {},
   "outputs": [
    {
     "name": "stdout",
     "output_type": "stream",
     "text": [
      "['data/cao2021_L8_20211116_120515.csv', 'data/cao2021_L67_20211116_120515.csv']\n",
      "data/cao2021_L8_20211116_120515.csv\n",
      "data/cao2021_L67_20211116_120515.csv\n",
      "     Course code                                       Course title  Round 1  \\\n",
      "0          AL801  Software Design for Virtual Reality and Gaming...    300.0   \n",
      "1          AL802  Software Design in Artificial Intelligence for...    313.0   \n",
      "2          AL803  Software Design for Mobile Apps and Connected ...    350.0   \n",
      "3          AL805  Computer Engineering for Network Infrastructur...    321.0   \n",
      "4          AL810  Quantity Surveying                            ...    328.0   \n",
      "...          ...                                                ...      ...   \n",
      "1360       WD188  Applied Health Care                           ...    220.0   \n",
      "1361       WD205  Molecular Biology with Biopharmaceutical Scien...      NaN   \n",
      "1362       WD206  Electronic Engineering                        ...    180.0   \n",
      "1363       WD207  Mechanical Engineering                        ...    172.0   \n",
      "1364       WD208  Manufacturing Engineering                     ...    317.0   \n",
      "\n",
      "     Portfolios_other1 Random 1 AQA1  Round 2  Portfolios_other2 Random 2  \\\n",
      "0                  NaN      NaN  NaN      NaN                NaN      NaN   \n",
      "1                  NaN      NaN  NaN      NaN                NaN      NaN   \n",
      "2                  NaN      NaN  NaN      NaN                NaN      NaN   \n",
      "3                  NaN      NaN  NaN      NaN                NaN      NaN   \n",
      "4                  NaN      NaN  NaN      NaN                NaN      NaN   \n",
      "...                ...      ...  ...      ...                ...      ...   \n",
      "1360               NaN      NaN  NaN      NaN                NaN      NaN   \n",
      "1361               NaN      NaN  NaN    262.0                NaN      NaN   \n",
      "1362               NaN      NaN  NaN      NaN                NaN      NaN   \n",
      "1363               NaN      NaN  NaN      NaN                NaN      NaN   \n",
      "1364               NaN      NaN  NaN      NaN                NaN      NaN   \n",
      "\n",
      "     AQA2                                HEI Level  Year  \n",
      "0     NaN    Athlone Institute of Technology     8  2021  \n",
      "1     NaN    Athlone Institute of Technology     8  2021  \n",
      "2     NaN    Athlone Institute of Technology     8  2021  \n",
      "3     NaN    Athlone Institute of Technology     8  2021  \n",
      "4     NaN    Athlone Institute of Technology     8  2021  \n",
      "...   ...                                ...   ...   ...  \n",
      "1360  NaN  Waterford Institute of Technology   6/7  2021  \n",
      "1361  NaN  Waterford Institute of Technology   6/7  2021  \n",
      "1362  NaN  Waterford Institute of Technology   6/7  2021  \n",
      "1363  NaN  Waterford Institute of Technology   6/7  2021  \n",
      "1364  NaN  Waterford Institute of Technology   6/7  2021  \n",
      "\n",
      "[1365 rows x 13 columns]\n"
     ]
    }
   ],
   "source": [
    "# loop over the list of csv files\n",
    "#https://stackoverflow.com/questions/16597265/appending-to-an-empty-dataframe-in-pandas\n",
    "\n",
    "print(csv_files)\n",
    "df = pd.DataFrame()\n",
    "for f in csv_files:\n",
    "      \n",
    "    # read the csv file\n",
    "    print(f)\n",
    "    df_temp = pd.read_csv(f)\n",
    "    \n",
    "    \n",
    "    df = df.append(df_temp, ignore_index = True)\n",
    "print(df)\n",
    "    \n"
   ]
  },
  {
   "cell_type": "code",
   "execution_count": 58,
   "id": "c18568f6-6a18-46fa-b663-cd8b00bc7c23",
   "metadata": {},
   "outputs": [],
   "source": [
    "#delete duplicate rows"
   ]
  },
  {
   "cell_type": "markdown",
   "id": "9a372d87-ba83-4a1c-9176-f61e5ca57396",
   "metadata": {},
   "source": [
    "*** "
   ]
  },
  {
   "cell_type": "markdown",
   "id": "c1e55352-cc54-464f-95fe-3f46ccd224f3",
   "metadata": {
    "tags": []
   },
   "source": [
    "## 2020 CAO points\n",
    "###### http://www.cao.ie/index.php?page=points&p=2020 CAO points in 2020 include level 6,7 & 8"
   ]
  },
  {
   "cell_type": "code",
   "execution_count": 59,
   "id": "ffe563bc-c46f-4eff-9e1a-f5141be6b915",
   "metadata": {},
   "outputs": [],
   "source": [
    "#use urlib to retrieve url as file\n",
    "import urllib.request as urlrq"
   ]
  },
  {
   "cell_type": "code",
   "execution_count": null,
   "id": "50894241-98de-4a94-8b11-551c76d40d5a",
   "metadata": {},
   "outputs": [],
   "source": []
  },
  {
   "cell_type": "code",
   "execution_count": 60,
   "id": "359f5ab1-0128-41c5-8c24-fbc883961b8c",
   "metadata": {},
   "outputs": [
    {
     "data": {
      "text/plain": [
       "('data/cao2020_20211116_120515.xlsx',\n",
       " <http.client.HTTPMessage at 0x21823333d90>)"
      ]
     },
     "execution_count": 60,
     "metadata": {},
     "output_type": "execute_result"
    }
   ],
   "source": [
    "# Create a file path for the original data.For backup\n",
    "path = 'data/cao2020_' + nowstr + '.xlsx'\n",
    "\n",
    "#download to path\n",
    "urlrq.urlretrieve('http://www2.cao.ie/points/CAOPointsCharts2020.xlsx',\\\n",
    "                  path)"
   ]
  },
  {
   "cell_type": "code",
   "execution_count": 61,
   "id": "4d45e9f1-96f5-4c81-abe5-b6a673e43b4c",
   "metadata": {},
   "outputs": [],
   "source": [
    "###### Read the Excel file into a pandas dataframe "
   ]
  },
  {
   "cell_type": "code",
   "execution_count": 62,
   "id": "8e0b3820-bebf-4e9c-aa85-051e1572861e",
   "metadata": {},
   "outputs": [],
   "source": [
    "#download and parse the excel spreadsheet\n",
    "#skip first 10 rows\n",
    "df=pd.read_excel('http://www2.cao.ie/points/CAOPointsCharts2020.xlsx',\\\n",
    "                 skiprows=10)\n"
   ]
  },
  {
   "cell_type": "code",
   "execution_count": 63,
   "id": "421461f9-e63a-4423-a92b-8ec6241194aa",
   "metadata": {},
   "outputs": [
    {
     "data": {
      "text/html": [
       "<div>\n",
       "<style scoped>\n",
       "    .dataframe tbody tr th:only-of-type {\n",
       "        vertical-align: middle;\n",
       "    }\n",
       "\n",
       "    .dataframe tbody tr th {\n",
       "        vertical-align: top;\n",
       "    }\n",
       "\n",
       "    .dataframe thead th {\n",
       "        text-align: right;\n",
       "    }\n",
       "</style>\n",
       "<table border=\"1\" class=\"dataframe\">\n",
       "  <thead>\n",
       "    <tr style=\"text-align: right;\">\n",
       "      <th></th>\n",
       "      <th>Course title</th>\n",
       "      <th>Course code</th>\n",
       "      <th>Round 1</th>\n",
       "      <th>Random 1</th>\n",
       "      <th>Round 2</th>\n",
       "      <th>Random 2</th>\n",
       "      <th>EOS</th>\n",
       "      <th>EOS Random *</th>\n",
       "      <th>EOS Mid-point</th>\n",
       "      <th>LEVEL</th>\n",
       "      <th>HEI</th>\n",
       "      <th>Test/Interview #</th>\n",
       "      <th>Year</th>\n",
       "      <th>Portfolios_other1</th>\n",
       "      <th>Portfolios_other2</th>\n",
       "      <th>AQA1</th>\n",
       "      <th>AQA2</th>\n",
       "    </tr>\n",
       "  </thead>\n",
       "  <tbody>\n",
       "    <tr>\n",
       "      <th>195</th>\n",
       "      <td>Contemporary Applied Art (Ceramics, Glass, Tex...</td>\n",
       "      <td>CR210</td>\n",
       "      <td></td>\n",
       "      <td>NaN</td>\n",
       "      <td>NaN</td>\n",
       "      <td>NaN</td>\n",
       "      <td>#+matric</td>\n",
       "      <td>NaN</td>\n",
       "      <td>#+matric</td>\n",
       "      <td>8</td>\n",
       "      <td>Cork Institute of Technology</td>\n",
       "      <td>#</td>\n",
       "      <td>2020</td>\n",
       "      <td>#</td>\n",
       "      <td></td>\n",
       "      <td></td>\n",
       "      <td></td>\n",
       "    </tr>\n",
       "  </tbody>\n",
       "</table>\n",
       "</div>"
      ],
      "text/plain": [
       "                                          Course title Course code Round 1  \\\n",
       "195  Contemporary Applied Art (Ceramics, Glass, Tex...       CR210           \n",
       "\n",
       "    Random 1 Round 2 Random 2       EOS EOS Random * EOS Mid-point  LEVEL  \\\n",
       "195      NaN     NaN      NaN  #+matric          NaN      #+matric      8   \n",
       "\n",
       "                              HEI Test/Interview #  Year Portfolios_other1  \\\n",
       "195  Cork Institute of Technology                #  2020                 #   \n",
       "\n",
       "    Portfolios_other2 AQA1 AQA2  \n",
       "195                              "
      ]
     },
     "metadata": {},
     "output_type": "display_data"
    }
   ],
   "source": [
    "#df.iloc[123]\n",
    "\n",
    "#check final row\n",
    "#delete unwanted columns\n",
    "df = df.drop(['CATEGORY (i.e.ISCED description)','avp','v','Column1',\\\n",
    "              'Column2','Column3','Column4','Column5','Column6',\\\n",
    "              'Column7','Column8'], 1)\n",
    "df = df.rename(columns={'COURSE TITLE': 'Course title',\\\n",
    "                        'COURSE CODE2': 'Course code',\\\n",
    "                        'R1 POINTS':'Round 1','R2 POINTS':'Round 2',\\\n",
    "                        'R1 Random *':'Random 1',\\\n",
    "                        'R2 Random*':'Random 2'})\n",
    "\n",
    "df['Year'] =2020\n",
    "df['Portfolios_other1'] =''\n",
    "df['Portfolios_other2'] =''\n",
    "df['AQA1'] =''\n",
    "df['AQA2'] =''\n",
    "#https://towardsdatascience.com/check-for-a-substring-in-a-pandas-dataframe-column-4b949f64852\n",
    "\n",
    "#Pulling out AQA, # and  placing into own column.\n",
    "df.loc[df['Round 1'].str.contains('#',na=False) ,\\\n",
    "       'Portfolios_other1'] = '#' \n",
    "df.loc[df['Round 1'].str.contains('#',na=False) , 'Round 1'] = '' \n",
    "df.loc[df['Round 2'].str.contains('#',na=False) ,\\\n",
    "       'Portfolios_other2'] = '#' \n",
    "df.loc[df['Round 2'].str.contains('#',na=False) , 'Round 2'] = '' \n",
    "df.loc[df['Round 1'].str.contains('AQA',na=False) , 'AQA1'] = 'AQA' \n",
    "df.loc[df['Round 2'].str.contains('AQA',na=False) , 'AQA2'] = '' \n",
    "display (df.loc[df['Course code']=='CR210']) # check we are picking up commas in csv fields          "
   ]
  },
  {
   "cell_type": "markdown",
   "id": "cf4b3c14-6ea2-43a5-80e2-bff46a50b24d",
   "metadata": {},
   "source": [
    "***"
   ]
  },
  {
   "cell_type": "code",
   "execution_count": null,
   "id": "9c6135a3-40bc-45fc-8876-22a321d844c7",
   "metadata": {},
   "outputs": [],
   "source": []
  },
  {
   "cell_type": "markdown",
   "id": "1c2bbffc-6ab1-4808-8842-9be1287da356",
   "metadata": {},
   "source": [
    "## 2019 CAO\n",
    "#http://www2.cao.ie/points/lvl8_19.pdf"
   ]
  },
  {
   "cell_type": "code",
   "execution_count": 64,
   "id": "1e1e1bc9-47dc-4249-86f1-b566a41626eb",
   "metadata": {},
   "outputs": [],
   "source": [
    "import camelot #use camelot package to extract tables from pdf files [7]"
   ]
  },
  {
   "cell_type": "code",
   "execution_count": null,
   "id": "5d27161b-56ae-48ee-95b0-2a2f8a4bdbf8",
   "metadata": {},
   "outputs": [],
   "source": []
  },
  {
   "cell_type": "code",
   "execution_count": 65,
   "id": "5e5c1aa7-6098-422c-8f01-f1eb86897827",
   "metadata": {},
   "outputs": [],
   "source": [
    "#create a path to back up the file as a csv\n",
    "path = 'data/cao2019_' + nowstr + '.csv'\n"
   ]
  },
  {
   "cell_type": "code",
   "execution_count": null,
   "id": "d485b60a-8b85-4142-80ba-25b201addff5",
   "metadata": {},
   "outputs": [],
   "source": []
  },
  {
   "cell_type": "code",
   "execution_count": 66,
   "id": "1032e450-432b-4e46-a2a4-b4ced950fbc4",
   "metadata": {},
   "outputs": [
    {
     "data": {
      "text/plain": [
       "{'accuracy': 99.02, 'whitespace': 12.24, 'order': 1, 'page': 10}"
      ]
     },
     "execution_count": 66,
     "metadata": {},
     "output_type": "execute_result"
    }
   ],
   "source": [
    "tables = camelot.read_pdf('http://www2.cao.ie/points/lvl8_19.pdf',\\\n",
    "                          pages='1-end',flavor='stream')\n",
    "#read all pages [8]\n",
    "\n",
    "tables\n",
    "tbl_cnt = len(tables)\n",
    "\n",
    "#export all tables - not what we really want\n",
    "#tables.export(path, f='csv', compress=False) # json, excel, html, markdown, sqlite\n",
    "#tables[0]\n",
    "\n",
    "tables[0].parsing_report\n",
    "{\n",
    "    'accuracy': 99.02,\n",
    "    'whitespace': 12.24,\n",
    "    'order': 1,\n",
    "    'page': 10\n",
    "}"
   ]
  },
  {
   "cell_type": "markdown",
   "id": "287bc1dd-1954-48a9-9f7a-edcd3593cfaa",
   "metadata": {},
   "source": [
    "print parsing report of first table"
   ]
  },
  {
   "cell_type": "code",
   "execution_count": null,
   "id": "fe9e0b60-e21d-407f-9418-0f873ccbf020",
   "metadata": {},
   "outputs": [],
   "source": []
  },
  {
   "cell_type": "code",
   "execution_count": null,
   "id": "3adca850-4602-4363-b1be-7f0cf3b669be",
   "metadata": {},
   "outputs": [],
   "source": []
  },
  {
   "cell_type": "code",
   "execution_count": null,
   "id": "4c16252b-b96f-46ec-aac1-415a917bc3f6",
   "metadata": {},
   "outputs": [],
   "source": []
  },
  {
   "cell_type": "code",
   "execution_count": 67,
   "id": "82f6da9c-a772-4354-984f-006bae17111a",
   "metadata": {},
   "outputs": [
    {
     "data": {
      "text/plain": [
       "18"
      ]
     },
     "execution_count": 67,
     "metadata": {},
     "output_type": "execute_result"
    }
   ],
   "source": [
    "tbl_cnt"
   ]
  },
  {
   "cell_type": "code",
   "execution_count": null,
   "id": "e797e75f-19d2-42bc-a2c9-34dc55f85ec8",
   "metadata": {},
   "outputs": [],
   "source": []
  },
  {
   "cell_type": "code",
   "execution_count": 68,
   "id": "6c62b689-4459-405c-adfd-e3cfe2ba6358",
   "metadata": {},
   "outputs": [],
   "source": [
    "# The file path for the csv file.\n",
    "path = 'data/cao2019_csv_' + nowstr + '.csv'"
   ]
  },
  {
   "cell_type": "code",
   "execution_count": null,
   "id": "50bf5791-21fd-4a6c-aee4-9fcb97d2d1ac",
   "metadata": {},
   "outputs": [],
   "source": []
  },
  {
   "cell_type": "code",
   "execution_count": null,
   "id": "47de3491-243a-4824-90a3-f27bb882fffa",
   "metadata": {},
   "outputs": [],
   "source": []
  },
  {
   "cell_type": "code",
   "execution_count": null,
   "id": "2596a326-5ba1-4977-99bd-976e833282c0",
   "metadata": {},
   "outputs": [],
   "source": []
  },
  {
   "cell_type": "code",
   "execution_count": 69,
   "id": "42bde6fc-ca8a-4cd7-aae1-804293893058",
   "metadata": {},
   "outputs": [],
   "source": [
    "i = 1 # exclude first header table \n",
    "#interate through the list of tables [9] \n",
    "data2019 = [] # empty list of tables\n",
    "\n",
    "for t in tables:    \n",
    "    if i > 0: #exclude 1st table\n",
    "        #write the table as a dataframe to listdata2019\n",
    "        \n",
    "        data2019.append(t.df) \n",
    "    i +=1 \n",
    "    \n",
    "#combine all the dataframes in the list into one dataframe\n",
    "dfcombined = pd.concat(data2019)\n",
    "\n",
    "#add column headers\n",
    "dfcombined.columns = ['Course Code', 'COURSE', 'EOS', 'Mid']\n",
    "\n",
    "#write to csv to store as back up.\n",
    "dfcombined.to_csv(path)\n"
   ]
  },
  {
   "cell_type": "code",
   "execution_count": null,
   "id": "d06f572a-1f77-47f2-a220-c9386d8e96e8",
   "metadata": {},
   "outputs": [],
   "source": []
  },
  {
   "cell_type": "markdown",
   "id": "5f19a80d-a159-4dea-83e5-3aaa86ccee90",
   "metadata": {},
   "source": [
    "Filter df so only rows with course codes remain. [10]"
   ]
  },
  {
   "cell_type": "code",
   "execution_count": null,
   "id": "9b7a8eae-2280-4877-be0b-d4620f671b19",
   "metadata": {},
   "outputs": [],
   "source": []
  },
  {
   "cell_type": "code",
   "execution_count": 70,
   "id": "0a1f3e4d-d642-4ebf-b565-28e66c87b316",
   "metadata": {},
   "outputs": [],
   "source": [
    "def regex_filter(val): \n",
    "    regex= '[A-Z]{2}[0-9]{3}'\n",
    "    if val:\n",
    "        mo = re.search(regex,val)\n",
    "        if mo:\n",
    "            return True\n",
    "        else:\n",
    "            return False\n",
    "    else:\n",
    "        return False\n",
    "\n",
    "df_filtered = dfcombined[dfcombined['Course Code'].apply(regex_filter)]\n",
    "\n",
    "\n",
    "\n"
   ]
  },
  {
   "cell_type": "markdown",
   "id": "5b9c26f3-8685-4e2d-a011-2c935e81787d",
   "metadata": {},
   "source": [
    "###### reset index to remove indexes from appended dataframes.\n",
    "reset because reindex will notwork with duplicate values indexes [11]\n"
   ]
  },
  {
   "cell_type": "code",
   "execution_count": 71,
   "id": "b05185f0-a776-42db-b606-e4a939b86d0a",
   "metadata": {},
   "outputs": [],
   "source": [
    "df = df_filtered.reset_index(drop=True)"
   ]
  },
  {
   "cell_type": "code",
   "execution_count": 72,
   "id": "6268f5e8-1d84-4138-ab8e-b349a3dba678",
   "metadata": {},
   "outputs": [
    {
     "data": {
      "text/html": [
       "<div>\n",
       "<style scoped>\n",
       "    .dataframe tbody tr th:only-of-type {\n",
       "        vertical-align: middle;\n",
       "    }\n",
       "\n",
       "    .dataframe tbody tr th {\n",
       "        vertical-align: top;\n",
       "    }\n",
       "\n",
       "    .dataframe thead th {\n",
       "        text-align: right;\n",
       "    }\n",
       "</style>\n",
       "<table border=\"1\" class=\"dataframe\">\n",
       "  <thead>\n",
       "    <tr style=\"text-align: right;\">\n",
       "      <th></th>\n",
       "      <th>Course Code</th>\n",
       "      <th>COURSE</th>\n",
       "      <th>EOS</th>\n",
       "      <th>Mid</th>\n",
       "    </tr>\n",
       "  </thead>\n",
       "  <tbody>\n",
       "    <tr>\n",
       "      <th>0</th>\n",
       "      <td>AL801</td>\n",
       "      <td>Software Design with Virtual Reality and Gaming</td>\n",
       "      <td>304</td>\n",
       "      <td>328</td>\n",
       "    </tr>\n",
       "    <tr>\n",
       "      <th>1</th>\n",
       "      <td>AL802</td>\n",
       "      <td>Software Design with Cloud Computing</td>\n",
       "      <td>301</td>\n",
       "      <td>306</td>\n",
       "    </tr>\n",
       "    <tr>\n",
       "      <th>2</th>\n",
       "      <td>AL803</td>\n",
       "      <td>Software Design with Mobile Apps and Connected...</td>\n",
       "      <td>309</td>\n",
       "      <td>337</td>\n",
       "    </tr>\n",
       "    <tr>\n",
       "      <th>3</th>\n",
       "      <td>AL805</td>\n",
       "      <td>Network Management and Cloud Infrastructure</td>\n",
       "      <td>329</td>\n",
       "      <td>442</td>\n",
       "    </tr>\n",
       "    <tr>\n",
       "      <th>4</th>\n",
       "      <td>AL810</td>\n",
       "      <td>Quantity Surveying</td>\n",
       "      <td>307</td>\n",
       "      <td>349</td>\n",
       "    </tr>\n",
       "    <tr>\n",
       "      <th>...</th>\n",
       "      <td>...</td>\n",
       "      <td>...</td>\n",
       "      <td>...</td>\n",
       "      <td>...</td>\n",
       "    </tr>\n",
       "    <tr>\n",
       "      <th>925</th>\n",
       "      <td>WD200</td>\n",
       "      <td>Arts (options)</td>\n",
       "      <td>221</td>\n",
       "      <td>296</td>\n",
       "    </tr>\n",
       "    <tr>\n",
       "      <th>926</th>\n",
       "      <td>WD210</td>\n",
       "      <td>Software Systems Development</td>\n",
       "      <td>271</td>\n",
       "      <td>329</td>\n",
       "    </tr>\n",
       "    <tr>\n",
       "      <th>927</th>\n",
       "      <td>WD211</td>\n",
       "      <td>Creative Computing</td>\n",
       "      <td>275</td>\n",
       "      <td>322</td>\n",
       "    </tr>\n",
       "    <tr>\n",
       "      <th>928</th>\n",
       "      <td>WD212</td>\n",
       "      <td>Recreation and Sport Management</td>\n",
       "      <td>274</td>\n",
       "      <td>311</td>\n",
       "    </tr>\n",
       "    <tr>\n",
       "      <th>929</th>\n",
       "      <td>WD230</td>\n",
       "      <td>Mechanical and Manufacturing Engineering</td>\n",
       "      <td>273</td>\n",
       "      <td>348</td>\n",
       "    </tr>\n",
       "  </tbody>\n",
       "</table>\n",
       "<p>930 rows × 4 columns</p>\n",
       "</div>"
      ],
      "text/plain": [
       "    Course Code                                             COURSE  EOS  Mid\n",
       "0         AL801    Software Design with Virtual Reality and Gaming  304  328\n",
       "1         AL802               Software Design with Cloud Computing  301  306\n",
       "2         AL803  Software Design with Mobile Apps and Connected...  309  337\n",
       "3         AL805        Network Management and Cloud Infrastructure  329  442\n",
       "4         AL810                                 Quantity Surveying  307  349\n",
       "..          ...                                                ...  ...  ...\n",
       "925       WD200                                     Arts (options)  221  296\n",
       "926       WD210                       Software Systems Development  271  329\n",
       "927       WD211                                 Creative Computing  275  322\n",
       "928       WD212                    Recreation and Sport Management  274  311\n",
       "929       WD230           Mechanical and Manufacturing Engineering  273  348\n",
       "\n",
       "[930 rows x 4 columns]"
      ]
     },
     "execution_count": 72,
     "metadata": {},
     "output_type": "execute_result"
    }
   ],
   "source": [
    "df"
   ]
  },
  {
   "cell_type": "code",
   "execution_count": 73,
   "id": "a8a3b68c-e330-485c-a0a3-b88c254c69ae",
   "metadata": {},
   "outputs": [
    {
     "data": {
      "text/html": [
       "<div>\n",
       "<style scoped>\n",
       "    .dataframe tbody tr th:only-of-type {\n",
       "        vertical-align: middle;\n",
       "    }\n",
       "\n",
       "    .dataframe tbody tr th {\n",
       "        vertical-align: top;\n",
       "    }\n",
       "\n",
       "    .dataframe thead th {\n",
       "        text-align: right;\n",
       "    }\n",
       "</style>\n",
       "<table border=\"1\" class=\"dataframe\">\n",
       "  <thead>\n",
       "    <tr style=\"text-align: right;\">\n",
       "      <th></th>\n",
       "      <th>Course Code</th>\n",
       "      <th>COURSE</th>\n",
       "      <th>EOS</th>\n",
       "      <th>Mid</th>\n",
       "    </tr>\n",
       "  </thead>\n",
       "  <tbody>\n",
       "    <tr>\n",
       "      <th>23</th>\n",
       "      <td>AL861</td>\n",
       "      <td>Animation and Illustration (portfolio)</td>\n",
       "      <td>#615</td>\n",
       "      <td>899</td>\n",
       "    </tr>\n",
       "  </tbody>\n",
       "</table>\n",
       "</div>"
      ],
      "text/plain": [
       "   Course Code                                  COURSE   EOS  Mid\n",
       "23       AL861  Animation and Illustration (portfolio)  #615  899"
      ]
     },
     "metadata": {},
     "output_type": "display_data"
    }
   ],
   "source": [
    "display (df.loc[df['Course Code']=='AL861'])\n",
    "#deal with *, ~ etc"
   ]
  },
  {
   "cell_type": "code",
   "execution_count": null,
   "id": "fa93af45-7cb5-4b7b-aa81-439c04f2d049",
   "metadata": {},
   "outputs": [],
   "source": []
  },
  {
   "cell_type": "code",
   "execution_count": null,
   "id": "53e32938-dff2-4090-9185-d89c8aa33e90",
   "metadata": {},
   "outputs": [],
   "source": []
  },
  {
   "cell_type": "code",
   "execution_count": null,
   "id": "92902e9a-1d21-4899-afc3-ec6724c79639",
   "metadata": {},
   "outputs": [],
   "source": []
  },
  {
   "cell_type": "code",
   "execution_count": null,
   "id": "49137dcf-7c74-4ef3-8edc-842718e4a5c7",
   "metadata": {},
   "outputs": [],
   "source": []
  },
  {
   "cell_type": "markdown",
   "id": "68f54e61-e864-4c03-a250-21e35d783f4b",
   "metadata": {},
   "source": [
    "---\n",
    "## References:\n",
    "[1]\n",
    "\n",
    "[2]\n",
    "\n",
    "[3] https://docs.python-requests.org/en/latest/index.html\n",
    "\n",
    "[4] https://docs.python.org/3/library/re.html\n",
    "\n",
    "[5] https://docs.python.org/3/library/re.html?highlight=re%20match#re.match\n",
    "\n",
    "[6] https://pandas.pydata.org/docs/reference/api/pandas.read_excel.html?highlight=read_excel#pandas.read_excel\n",
    "\n",
    "[7] https://camelot-py.readthedocs.io/en/master/\n",
    "\n",
    "[8] https://github.com/atlanhq/camelot/issues/278\n",
    "\n",
    "[9] https://stackoverflow.com/questions/55052989/how-to-iterate-through-a-list-of-data-frames-and-drop-all-data-if-a-specific-str\n",
    "\n",
    "[10] https://stackoverflow.com/questions/15325182/how-to-filter-rows-in-pandas-by-regex/48884429\n",
    "\n",
    "[11] https://stackoverflow.com/questions/68261366/right-way-to-reindex-a-dataframe\n"
   ]
  },
  {
   "cell_type": "markdown",
   "id": "8ac0a441-8ac1-47c6-8749-afaf0be36292",
   "metadata": {
    "tags": []
   },
   "source": [
    "## End"
   ]
  },
  {
   "cell_type": "code",
   "execution_count": null,
   "id": "a8001c47-4497-4881-999a-bc7345b02440",
   "metadata": {},
   "outputs": [],
   "source": []
  },
  {
   "cell_type": "code",
   "execution_count": null,
   "id": "52e25795-04b7-4f77-b49b-8c578449703d",
   "metadata": {},
   "outputs": [],
   "source": []
  },
  {
   "cell_type": "code",
   "execution_count": null,
   "id": "57ae013f-525c-4f19-8881-02fe1faf0345",
   "metadata": {},
   "outputs": [],
   "source": []
  },
  {
   "cell_type": "code",
   "execution_count": null,
   "id": "ba1089c6-c888-4cc4-a165-3a900a9d0a2d",
   "metadata": {},
   "outputs": [],
   "source": []
  }
 ],
 "metadata": {
  "kernelspec": {
   "display_name": "Python 3",
   "language": "python",
   "name": "python3"
  },
  "language_info": {
   "codemirror_mode": {
    "name": "ipython",
    "version": 3
   },
   "file_extension": ".py",
   "mimetype": "text/x-python",
   "name": "python",
   "nbconvert_exporter": "python",
   "pygments_lexer": "ipython3",
   "version": "3.8.8"
  }
 },
 "nbformat": 4,
 "nbformat_minor": 5
}
