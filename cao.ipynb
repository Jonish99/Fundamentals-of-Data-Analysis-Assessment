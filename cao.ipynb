{
 "cells": [
  {
   "cell_type": "markdown",
   "id": "15e8b6b3-4d32-44c2-a85f-e6da35747375",
   "metadata": {},
   "source": [
    "## A demonstration of PANDAS data frames used to investigate CAO points\n",
    "\n",
    "Author: Jon Ishaque\n",
    "Commenced: 29th September 2021\n",
    "GMIT SID: G00398244\n",
    "\n",
    "This notebook extracts CAO points from the CAO website for 2019, 2020 and 2021. It loads data into pandas dataframes and uses pandas and python to compare points from different years.\n",
    "\n",
    " Documentation: https://pandas.pydata.org/docs/reference/api/pandas.DataFrame.html"
   ]
  },
  {
   "cell_type": "code",
   "execution_count": 1,
   "id": "f1f5a6e9-75a5-42f0-a2f7-7e0894675de7",
   "metadata": {},
   "outputs": [],
   "source": [
    "# package for making http requests\n",
    "\n",
    "import requests as rq\n",
    "# Dates and time package\n",
    "import datetime as dt\n",
    "\n",
    "#dataframes\n",
    "import pandas as pd\n",
    "\n",
    "#import regex package for searching strings\n",
    "import re"
   ]
  },
  {
   "cell_type": "code",
   "execution_count": null,
   "id": "81d1d708-108b-4656-bb89-0f20d30ea3ac",
   "metadata": {},
   "outputs": [],
   "source": []
  },
  {
   "cell_type": "markdown",
   "id": "336fefee-76de-43b1-b5f3-377fcd3f791d",
   "metadata": {},
   "source": [
    "## 2021 points\n",
    "#http://www.cao.ie/index.php?page=points&p=2021\n",
    "The 2021 CAO points are presented in a web age. This part of the note part of the note book will load the web page content. A loop will read each line of web page and determine if it's content is relevant and write content to a csv file."
   ]
  },
  {
   "cell_type": "code",
   "execution_count": null,
   "id": "6e119e12-6f43-4635-b21c-cb7e11c977c4",
   "metadata": {},
   "outputs": [],
   "source": []
  },
  {
   "cell_type": "code",
   "execution_count": 2,
   "id": "6cf5367c-0e42-4e66-9729-0f963aeab1b3",
   "metadata": {
    "tags": []
   },
   "outputs": [
    {
     "data": {
      "text/plain": [
       "'text/html; charset=iso-8859-1'"
      ]
     },
     "execution_count": 2,
     "metadata": {},
     "output_type": "execute_result"
    }
   ],
   "source": [
    "#Get the web page\n",
    "#getheaders and determine contenttype [3]\n",
    "\n",
    "resp = rq.get('http://www2.cao.ie/points/l8.php', headers={\"content-type\":\"text\"})\n",
    "resp.headers['content-type']"
   ]
  },
  {
   "cell_type": "code",
   "execution_count": 3,
   "id": "13a130e7-0806-4a52-a391-688e97a0ca83",
   "metadata": {
    "tags": []
   },
   "outputs": [
    {
     "data": {
      "text/plain": [
       "<Response [200]>"
      ]
     },
     "execution_count": 3,
     "metadata": {},
     "output_type": "execute_result"
    }
   ],
   "source": [
    "#check the response\n",
    "resp"
   ]
  },
  {
   "cell_type": "markdown",
   "id": "5b736154-d5d5-436d-82de-71eaadf116de",
   "metadata": {},
   "source": [
    "The page header from the server should decode as per: *Content-Type: text/html; charset=iso-8859-1*\n",
    "However, one line uses \\x96 which isn't defined in iso-8859-1. Therefore we use the similar decoding standard cp1252, which is very similar but includes #x96. The character in question was had an Irish foda on a level 8 course"
   ]
  },
  {
   "cell_type": "code",
   "execution_count": 4,
   "id": "b7359167-7008-4f5f-a50c-33ab8c7df7e7",
   "metadata": {},
   "outputs": [],
   "source": [
    "# Save the oringinal encoding\n",
    "original_encoding = resp.encoding\n",
    "\n",
    "# Change to cp1252, which handles accented characters\n",
    "resp.encoding = 'cp1252'"
   ]
  },
  {
   "cell_type": "markdown",
   "id": "4ace62ef-a7fc-4ecb-a031-85025c2fd75d",
   "metadata": {},
   "source": [
    "Create a string var,*now*. this is use in file names of back up copies of CAO points."
   ]
  },
  {
   "cell_type": "code",
   "execution_count": 5,
   "id": "b1670e56-6d1f-41e0-82ab-48192b915c05",
   "metadata": {},
   "outputs": [],
   "source": [
    "# Get the current date and time.\n",
    "\n",
    "now = dt.datetime.now()\n",
    "\n",
    "# Format as a string.\n",
    "nowstr = now.strftime('%Y%m%d_%H%M%S')\n",
    "\n"
   ]
  },
  {
   "cell_type": "code",
   "execution_count": 6,
   "id": "2825d69b-1a47-4a48-9a11-2e0f7abdc438",
   "metadata": {},
   "outputs": [],
   "source": [
    "# Create a file path for the original data. 2021\n",
    "path = 'data/cao2021_' + nowstr + '.html'"
   ]
  },
  {
   "cell_type": "markdown",
   "id": "fc2d2445-8646-41dd-b172-59d1aedb3133",
   "metadata": {},
   "source": [
    "\n"
   ]
  },
  {
   "cell_type": "code",
   "execution_count": null,
   "id": "ff357cff-6f33-425b-a1a6-5367402f82b5",
   "metadata": {},
   "outputs": [],
   "source": []
  },
  {
   "cell_type": "code",
   "execution_count": null,
   "id": "8d1e7d60-4299-42b1-9af8-8ab745168fdb",
   "metadata": {},
   "outputs": [],
   "source": []
  },
  {
   "cell_type": "code",
   "execution_count": 7,
   "id": "b3519d84-6601-4a98-8ec7-bfb5f0cb9ae7",
   "metadata": {
    "tags": []
   },
   "outputs": [],
   "source": [
    "# Save the original html file.\n",
    "with open(path, 'w') as f:\n",
    "    f.write(resp.text)"
   ]
  },
  {
   "cell_type": "markdown",
   "id": "1ac1c050-a5d7-435b-9a47-843528f77676",
   "metadata": {},
   "source": [
    "###### Compile the regular expression so it is not compiled at each interation of the loop reading the webpage"
   ]
  },
  {
   "cell_type": "markdown",
   "id": "c6aaa91d-c89c-4a91-a669-e0e5829be163",
   "metadata": {},
   "source": [
    "###### Explanation of the regualar expression [4][5]:\n",
    "('[A-Z]{2}[0-9]{3} (.*)([0-9]{3}))</span>\n",
    "\n",
    "[A-Z]{2}        Any two upper case aphanumberic\n",
    "\n",
    "[0-9]{3}        Any three digits 0-9\n",
    "\n",
    "'  '            Two spaces\n",
    "\n",
    "(.*)([0-9]{3})   Any amount of text before 3 numeric characters\n",
    "\n",
    "\n",
    "    </font>"
   ]
  },
  {
   "cell_type": "code",
   "execution_count": 28,
   "id": "e78b1faf-cb9c-4494-9a9c-f19b73739946",
   "metadata": {},
   "outputs": [],
   "source": [
    "#set reg ex\n",
    "re_courses = re.compile('[A-Z]{2}[0-9]{3} (.*)') #[4]\n",
    "\n",
    "\n"
   ]
  },
  {
   "cell_type": "code",
   "execution_count": 85,
   "id": "68bc80e0-02ce-43e7-a4be-75fc94bc72d2",
   "metadata": {},
   "outputs": [],
   "source": [
    "#helper\n",
    "def points_to_arr(s):\n",
    "    portfolio =''\n",
    "    #check 1st char for #\n",
    "    #print(s)\n",
    "    if s[0]=='#':\n",
    "        portfolio='#'# add to var\n",
    "    random = ''\n",
    "    #check final char for  *\n",
    "    if s[-1] == '*':\n",
    "        random ='*'\n",
    "    points=''\n",
    "    #strip ~ and * from start and end of s\n",
    "    for i in s:\n",
    "        if i.isdigit():\n",
    "            #concat points string\n",
    "            points = points + i\n",
    "    #return\n",
    "    return [points, portfolio, random]"
   ]
  },
  {
   "cell_type": "markdown",
   "id": "b9fc2126-9021-4ecb-969e-a00939eb119b",
   "metadata": {},
   "source": [
    "The following block of code iterates through each line of the csv file "
   ]
  },
  {
   "cell_type": "code",
   "execution_count": 86,
   "id": "9de3dc21-685a-477d-920f-2b21eb6a78e7",
   "metadata": {},
   "outputs": [],
   "source": [
    "# The file path for the csv file.\n",
    "path = 'data/cao2021_csv_' + nowstr + '.csv'"
   ]
  },
  {
   "cell_type": "code",
   "execution_count": 88,
   "id": "6a69844e-746d-4123-a633-6417ccb8f2a7",
   "metadata": {},
   "outputs": [
    {
     "name": "stdout",
     "output_type": "stream",
     "text": [
      "number of lines is {949}\n"
     ]
    }
   ],
   "source": [
    "\n",
    "\n",
    "\n",
    "#resp.text\n",
    "#loop through response text lines\n",
    "\n",
    "#bytes problem\n",
    "\n",
    "#set var to count lines for cross check with webpage\n",
    "no_lines = 0\n",
    "with open(path, 'w') as f:\n",
    "    #write csv header\n",
    "    for line in resp.iter_lines():\n",
    "        #\n",
    "      \n",
    "             \n",
    "            #so convert str to bytes\n",
    "         \n",
    "            #print (line)\n",
    "        dline = line.decode('cp1252')\n",
    "        #check if line mathces reg exp pattern. If so, do something.\n",
    "        if re_courses.fullmatch(dline):\n",
    "            no_lines +=1\n",
    "            #get first five chars - course code\n",
    "            course_code = dline[:5]\n",
    "            #course title\n",
    "            course_title = dline[7:57]\n",
    "            #r1 points\n",
    "            round_1 = dline[60:65].rstrip() # get five chars, remove white space\n",
    "            #if round 1 not blank call fn points_to_arr\n",
    "            if len(round_1) > 0:\n",
    "                round_1= points_to_arr(round_1)\n",
    "                #assign vals from returned array\n",
    "                pts1 = round_1[0]\n",
    "                plo1 = round_1[1]\n",
    "                rnd1 = round_1[2]\n",
    "            else: \n",
    "                pts1 = ''\n",
    "                plo1 = ''\n",
    "                rnd1 = ''\n",
    "            #r2 points\n",
    "            round_2 = dline[67:].rstrip() # get four chars, remove white space\n",
    "            #if round 2 not blank call fn points_to_arr\n",
    "            if len(round_2) > 0:\n",
    "                round_2= points_to_arr(round_2)\n",
    "                #assign vals from returned array\n",
    "                pts2 = round_2[0]\n",
    "                plo2 = round_2[1]\n",
    "                rnd2 = round_2[2]\n",
    "            else: \n",
    "                pts2 = ''\n",
    "                plo2 = ''\n",
    "                rnd2 = ''\n",
    "                \n",
    "                \n",
    "            # Split the line \n",
    "            linesplit = [course_code,course_title,pts1,plo1,rnd1,pts2,plo2,rnd2]\n",
    "            #print (linesplit)\n",
    "            #debug\n",
    "            #print(f\"'{course_code} {dline} r1: {round_1} r2: {round_2}'\")\n",
    "           # print((','.join(linesplit) + '\\n'))\n",
    "            # Rejoin the array values with commas in between. ie.comma separated\n",
    "            f.write(','.join(linesplit) + '\\n')\n",
    "print (f\"number of lines is\", {no_lines})\n",
    "#check this number is correct"
   ]
  },
  {
   "cell_type": "markdown",
   "id": "7c583d24-c845-47cd-a4a3-7daebabcf2f8",
   "metadata": {},
   "source": [
    "#### NB: 949 courses on CAO website verified on 10 November 2021"
   ]
  },
  {
   "cell_type": "markdown",
   "id": "3bb331ea-4c98-44b7-81ff-ce8559b6067b",
   "metadata": {},
   "source": []
  },
  {
   "cell_type": "markdown",
   "id": "4c5ea660-9a7c-436b-a22b-43dcca743b9a",
   "metadata": {},
   "source": []
  },
  {
   "cell_type": "code",
   "execution_count": 10,
   "id": "6133b32c-1f0f-4ef2-81cb-457268cb59f7",
   "metadata": {},
   "outputs": [
    {
     "data": {
      "text/plain": [
       "[6]"
      ]
     },
     "execution_count": 10,
     "metadata": {},
     "output_type": "execute_result"
    }
   ],
   "source": [
    "[6] "
   ]
  },
  {
   "cell_type": "markdown",
   "id": "9a372d87-ba83-4a1c-9176-f61e5ca57396",
   "metadata": {},
   "source": [
    "*** "
   ]
  },
  {
   "cell_type": "markdown",
   "id": "c1e55352-cc54-464f-95fe-3f46ccd224f3",
   "metadata": {
    "tags": []
   },
   "source": [
    "## 2020 CAO points\n",
    "###### http://www.cao.ie/index.php?page=points&p=2020 CAO points in 2020 include level 6,7 & 8"
   ]
  },
  {
   "cell_type": "code",
   "execution_count": 11,
   "id": "ffe563bc-c46f-4eff-9e1a-f5141be6b915",
   "metadata": {},
   "outputs": [],
   "source": [
    "#use urlib to retrieve url as file\n",
    "import urllib.request as urlrq"
   ]
  },
  {
   "cell_type": "code",
   "execution_count": null,
   "id": "50894241-98de-4a94-8b11-551c76d40d5a",
   "metadata": {},
   "outputs": [],
   "source": []
  },
  {
   "cell_type": "code",
   "execution_count": 12,
   "id": "359f5ab1-0128-41c5-8c24-fbc883961b8c",
   "metadata": {},
   "outputs": [
    {
     "data": {
      "text/plain": [
       "('data/cao2020_20211110_184438.xlsx',\n",
       " <http.client.HTTPMessage at 0x22313aa4dc0>)"
      ]
     },
     "execution_count": 12,
     "metadata": {},
     "output_type": "execute_result"
    }
   ],
   "source": [
    "# Create a file path for the original data.For backup\n",
    "path = 'data/cao2020_' + nowstr + '.xlsx'\n",
    "\n",
    "#download to path\n",
    "urlrq.urlretrieve('http://www2.cao.ie/points/CAOPointsCharts2020.xlsx', path)"
   ]
  },
  {
   "cell_type": "code",
   "execution_count": 13,
   "id": "4d45e9f1-96f5-4c81-abe5-b6a673e43b4c",
   "metadata": {},
   "outputs": [],
   "source": [
    "###### Read the Excel file into a pandas dataframe "
   ]
  },
  {
   "cell_type": "code",
   "execution_count": 14,
   "id": "8e0b3820-bebf-4e9c-aa85-051e1572861e",
   "metadata": {},
   "outputs": [],
   "source": [
    "#download and parse the excel spreadsheet\n",
    "#skip first 10 rows\n",
    "df=pd.read_excel('http://www2.cao.ie/points/CAOPointsCharts2020.xlsx',skiprows=10)\n"
   ]
  },
  {
   "cell_type": "code",
   "execution_count": 15,
   "id": "421461f9-e63a-4423-a92b-8ec6241194aa",
   "metadata": {},
   "outputs": [
    {
     "data": {
      "text/plain": [
       "CATEGORY (i.e.ISCED description)          Engineering and engineering trades\n",
       "COURSE TITLE                        Mechanical and Manufacturing Engineering\n",
       "COURSE CODE2                                                           WD230\n",
       "R1 POINTS                                                                253\n",
       "R1 Random *                                                              NaN\n",
       "R2 POINTS                                                                NaN\n",
       "R2 Random*                                                               NaN\n",
       "EOS                                                                      253\n",
       "EOS Random *                                                             NaN\n",
       "EOS Mid-point                                                            369\n",
       "LEVEL                                                                      8\n",
       "HEI                                        Waterford Institute of Technology\n",
       "Test/Interview #                                                         NaN\n",
       "avp                                                                      NaN\n",
       "v                                                                        NaN\n",
       "Column1                                                                  NaN\n",
       "Column2                                                                  NaN\n",
       "Column3                                                                  NaN\n",
       "Column4                                                                  NaN\n",
       "Column5                                                                  NaN\n",
       "Column6                                                                  NaN\n",
       "Column7                                                                  NaN\n",
       "Column8                                                                  NaN\n",
       "Name: 1463, dtype: object"
      ]
     },
     "execution_count": 15,
     "metadata": {},
     "output_type": "execute_result"
    }
   ],
   "source": [
    "#df.iloc[123]\n",
    "\n",
    "#check final row\n",
    "df.iloc[-1]"
   ]
  },
  {
   "cell_type": "markdown",
   "id": "cf4b3c14-6ea2-43a5-80e2-bff46a50b24d",
   "metadata": {},
   "source": [
    "***"
   ]
  },
  {
   "cell_type": "markdown",
   "id": "1c2bbffc-6ab1-4808-8842-9be1287da356",
   "metadata": {},
   "source": [
    "## 2019 CAO\n",
    "#http://www2.cao.ie/points/lvl8_19.pdf"
   ]
  },
  {
   "cell_type": "code",
   "execution_count": 16,
   "id": "1e1e1bc9-47dc-4249-86f1-b566a41626eb",
   "metadata": {},
   "outputs": [],
   "source": [
    "import camelot #use camelot package to extract tables from pdf files [7]"
   ]
  },
  {
   "cell_type": "code",
   "execution_count": null,
   "id": "5d27161b-56ae-48ee-95b0-2a2f8a4bdbf8",
   "metadata": {},
   "outputs": [],
   "source": []
  },
  {
   "cell_type": "code",
   "execution_count": 17,
   "id": "5e5c1aa7-6098-422c-8f01-f1eb86897827",
   "metadata": {},
   "outputs": [],
   "source": [
    "#create a path to back up the file as a csv\n",
    "path = 'data/cao2019_' + nowstr + '.csv'\n"
   ]
  },
  {
   "cell_type": "code",
   "execution_count": null,
   "id": "d485b60a-8b85-4142-80ba-25b201addff5",
   "metadata": {},
   "outputs": [],
   "source": []
  },
  {
   "cell_type": "code",
   "execution_count": 18,
   "id": "1032e450-432b-4e46-a2a4-b4ced950fbc4",
   "metadata": {},
   "outputs": [
    {
     "data": {
      "text/plain": [
       "{'accuracy': 99.02, 'whitespace': 12.24, 'order': 1, 'page': 1}"
      ]
     },
     "execution_count": 18,
     "metadata": {},
     "output_type": "execute_result"
    }
   ],
   "source": [
    "tables = camelot.read_pdf('http://www2.cao.ie/points/lvl8_19.pdf',pages='1-end',flavor='stream')\n",
    "#read all pages [8]\n",
    "\n",
    "tables\n",
    "tbl_cnt = len(tables)\n",
    "\n",
    "#export all tables - not what we really want\n",
    "#tables.export(path, f='csv', compress=False) # json, excel, html, markdown, sqlite\n",
    "#tables[0]\n",
    "\n",
    "tables[0].parsing_report\n",
    "{\n",
    "    'accuracy': 99.02,\n",
    "    'whitespace': 12.24,\n",
    "    'order': 1,\n",
    "    'page': 1\n",
    "}"
   ]
  },
  {
   "cell_type": "markdown",
   "id": "287bc1dd-1954-48a9-9f7a-edcd3593cfaa",
   "metadata": {},
   "source": [
    "print parsing report of first table"
   ]
  },
  {
   "cell_type": "code",
   "execution_count": 19,
   "id": "fe9e0b60-e21d-407f-9418-0f873ccbf020",
   "metadata": {},
   "outputs": [
    {
     "data": {
      "text/plain": [
       "{'accuracy': 99.02, 'whitespace': 12.24, 'order': 1, 'page': 1}"
      ]
     },
     "execution_count": 19,
     "metadata": {},
     "output_type": "execute_result"
    }
   ],
   "source": [
    "tables[0].parsing_report\n",
    "{\n",
    "    'accuracy': 99.02,\n",
    "    'whitespace': 12.24,\n",
    "    'order': 1,\n",
    "    'page': 1\n",
    "}"
   ]
  },
  {
   "cell_type": "code",
   "execution_count": null,
   "id": "3adca850-4602-4363-b1be-7f0cf3b669be",
   "metadata": {},
   "outputs": [],
   "source": []
  },
  {
   "cell_type": "code",
   "execution_count": null,
   "id": "4c16252b-b96f-46ec-aac1-415a917bc3f6",
   "metadata": {},
   "outputs": [],
   "source": []
  },
  {
   "cell_type": "code",
   "execution_count": 20,
   "id": "82f6da9c-a772-4354-984f-006bae17111a",
   "metadata": {},
   "outputs": [
    {
     "data": {
      "text/plain": [
       "18"
      ]
     },
     "execution_count": 20,
     "metadata": {},
     "output_type": "execute_result"
    }
   ],
   "source": [
    "tbl_cnt"
   ]
  },
  {
   "cell_type": "code",
   "execution_count": null,
   "id": "e797e75f-19d2-42bc-a2c9-34dc55f85ec8",
   "metadata": {},
   "outputs": [],
   "source": []
  },
  {
   "cell_type": "code",
   "execution_count": 21,
   "id": "6c62b689-4459-405c-adfd-e3cfe2ba6358",
   "metadata": {},
   "outputs": [],
   "source": [
    "# The file path for the csv file.\n",
    "path = 'data/cao2019_csv_' + nowstr + '.csv'"
   ]
  },
  {
   "cell_type": "code",
   "execution_count": null,
   "id": "50bf5791-21fd-4a6c-aee4-9fcb97d2d1ac",
   "metadata": {},
   "outputs": [],
   "source": []
  },
  {
   "cell_type": "code",
   "execution_count": null,
   "id": "47de3491-243a-4824-90a3-f27bb882fffa",
   "metadata": {},
   "outputs": [],
   "source": []
  },
  {
   "cell_type": "code",
   "execution_count": null,
   "id": "2596a326-5ba1-4977-99bd-976e833282c0",
   "metadata": {},
   "outputs": [],
   "source": []
  },
  {
   "cell_type": "code",
   "execution_count": 22,
   "id": "42bde6fc-ca8a-4cd7-aae1-804293893058",
   "metadata": {},
   "outputs": [],
   "source": [
    "i = 1 # exclude first header table \n",
    "#interate through the list of tables [9] \n",
    "data2019 = [] # empty list of tables\n",
    "\n",
    "for t in tables:    \n",
    "    if i > 0: #exclude 1st table\n",
    "        #write the table as a dataframe to listdata2019\n",
    "        \n",
    "        data2019.append(t.df) \n",
    "    i +=1 \n",
    "    \n",
    "#combine all the dataframes in the list into one dataframe\n",
    "dfcombined = pd.concat(data2019)\n",
    "\n",
    "#add column headers\n",
    "dfcombined.columns = ['Course Code', 'COURSE', 'EOS', 'Mid']\n",
    "\n",
    "#write to csv to store as back up.\n",
    "dfcombined.to_csv(path)\n"
   ]
  },
  {
   "cell_type": "code",
   "execution_count": null,
   "id": "d06f572a-1f77-47f2-a220-c9386d8e96e8",
   "metadata": {},
   "outputs": [],
   "source": []
  },
  {
   "cell_type": "markdown",
   "id": "5f19a80d-a159-4dea-83e5-3aaa86ccee90",
   "metadata": {},
   "source": [
    "Filter df so only rows with course codes remain. [10]"
   ]
  },
  {
   "cell_type": "code",
   "execution_count": null,
   "id": "9b7a8eae-2280-4877-be0b-d4620f671b19",
   "metadata": {},
   "outputs": [],
   "source": []
  },
  {
   "cell_type": "code",
   "execution_count": 23,
   "id": "0a1f3e4d-d642-4ebf-b565-28e66c87b316",
   "metadata": {},
   "outputs": [],
   "source": [
    "def regex_filter(val): \n",
    "    regex= '[A-Z]{2}[0-9]{3}'\n",
    "    if val:\n",
    "        mo = re.search(regex,val)\n",
    "        if mo:\n",
    "            return True\n",
    "        else:\n",
    "            return False\n",
    "    else:\n",
    "        return False\n",
    "\n",
    "df_filtered = dfcombined[dfcombined['Course Code'].apply(regex_filter)]\n",
    "\n",
    "\n",
    "\n"
   ]
  },
  {
   "cell_type": "markdown",
   "id": "5b9c26f3-8685-4e2d-a011-2c935e81787d",
   "metadata": {},
   "source": [
    "###### reset index to remove indexes from appended dataframes.\n",
    "reset because reindex will notwork with duplicate values indexes [11]\n"
   ]
  },
  {
   "cell_type": "code",
   "execution_count": 24,
   "id": "b05185f0-a776-42db-b606-e4a939b86d0a",
   "metadata": {},
   "outputs": [],
   "source": [
    "df = df_filtered.reset_index(drop=True)"
   ]
  },
  {
   "cell_type": "code",
   "execution_count": 25,
   "id": "6268f5e8-1d84-4138-ab8e-b349a3dba678",
   "metadata": {},
   "outputs": [
    {
     "data": {
      "text/html": [
       "<div>\n",
       "<style scoped>\n",
       "    .dataframe tbody tr th:only-of-type {\n",
       "        vertical-align: middle;\n",
       "    }\n",
       "\n",
       "    .dataframe tbody tr th {\n",
       "        vertical-align: top;\n",
       "    }\n",
       "\n",
       "    .dataframe thead th {\n",
       "        text-align: right;\n",
       "    }\n",
       "</style>\n",
       "<table border=\"1\" class=\"dataframe\">\n",
       "  <thead>\n",
       "    <tr style=\"text-align: right;\">\n",
       "      <th></th>\n",
       "      <th>Course Code</th>\n",
       "      <th>COURSE</th>\n",
       "      <th>EOS</th>\n",
       "      <th>Mid</th>\n",
       "    </tr>\n",
       "  </thead>\n",
       "  <tbody>\n",
       "    <tr>\n",
       "      <th>0</th>\n",
       "      <td>AL801</td>\n",
       "      <td>Software Design with Virtual Reality and Gaming</td>\n",
       "      <td>304</td>\n",
       "      <td>328</td>\n",
       "    </tr>\n",
       "    <tr>\n",
       "      <th>1</th>\n",
       "      <td>AL802</td>\n",
       "      <td>Software Design with Cloud Computing</td>\n",
       "      <td>301</td>\n",
       "      <td>306</td>\n",
       "    </tr>\n",
       "    <tr>\n",
       "      <th>2</th>\n",
       "      <td>AL803</td>\n",
       "      <td>Software Design with Mobile Apps and Connected...</td>\n",
       "      <td>309</td>\n",
       "      <td>337</td>\n",
       "    </tr>\n",
       "    <tr>\n",
       "      <th>3</th>\n",
       "      <td>AL805</td>\n",
       "      <td>Network Management and Cloud Infrastructure</td>\n",
       "      <td>329</td>\n",
       "      <td>442</td>\n",
       "    </tr>\n",
       "    <tr>\n",
       "      <th>4</th>\n",
       "      <td>AL810</td>\n",
       "      <td>Quantity Surveying</td>\n",
       "      <td>307</td>\n",
       "      <td>349</td>\n",
       "    </tr>\n",
       "    <tr>\n",
       "      <th>...</th>\n",
       "      <td>...</td>\n",
       "      <td>...</td>\n",
       "      <td>...</td>\n",
       "      <td>...</td>\n",
       "    </tr>\n",
       "    <tr>\n",
       "      <th>925</th>\n",
       "      <td>WD200</td>\n",
       "      <td>Arts (options)</td>\n",
       "      <td>221</td>\n",
       "      <td>296</td>\n",
       "    </tr>\n",
       "    <tr>\n",
       "      <th>926</th>\n",
       "      <td>WD210</td>\n",
       "      <td>Software Systems Development</td>\n",
       "      <td>271</td>\n",
       "      <td>329</td>\n",
       "    </tr>\n",
       "    <tr>\n",
       "      <th>927</th>\n",
       "      <td>WD211</td>\n",
       "      <td>Creative Computing</td>\n",
       "      <td>275</td>\n",
       "      <td>322</td>\n",
       "    </tr>\n",
       "    <tr>\n",
       "      <th>928</th>\n",
       "      <td>WD212</td>\n",
       "      <td>Recreation and Sport Management</td>\n",
       "      <td>274</td>\n",
       "      <td>311</td>\n",
       "    </tr>\n",
       "    <tr>\n",
       "      <th>929</th>\n",
       "      <td>WD230</td>\n",
       "      <td>Mechanical and Manufacturing Engineering</td>\n",
       "      <td>273</td>\n",
       "      <td>348</td>\n",
       "    </tr>\n",
       "  </tbody>\n",
       "</table>\n",
       "<p>930 rows × 4 columns</p>\n",
       "</div>"
      ],
      "text/plain": [
       "    Course Code                                             COURSE  EOS  Mid\n",
       "0         AL801    Software Design with Virtual Reality and Gaming  304  328\n",
       "1         AL802               Software Design with Cloud Computing  301  306\n",
       "2         AL803  Software Design with Mobile Apps and Connected...  309  337\n",
       "3         AL805        Network Management and Cloud Infrastructure  329  442\n",
       "4         AL810                                 Quantity Surveying  307  349\n",
       "..          ...                                                ...  ...  ...\n",
       "925       WD200                                     Arts (options)  221  296\n",
       "926       WD210                       Software Systems Development  271  329\n",
       "927       WD211                                 Creative Computing  275  322\n",
       "928       WD212                    Recreation and Sport Management  274  311\n",
       "929       WD230           Mechanical and Manufacturing Engineering  273  348\n",
       "\n",
       "[930 rows x 4 columns]"
      ]
     },
     "execution_count": 25,
     "metadata": {},
     "output_type": "execute_result"
    }
   ],
   "source": [
    "df"
   ]
  },
  {
   "cell_type": "code",
   "execution_count": null,
   "id": "a8a3b68c-e330-485c-a0a3-b88c254c69ae",
   "metadata": {},
   "outputs": [],
   "source": []
  },
  {
   "cell_type": "code",
   "execution_count": null,
   "id": "fa93af45-7cb5-4b7b-aa81-439c04f2d049",
   "metadata": {},
   "outputs": [],
   "source": []
  },
  {
   "cell_type": "code",
   "execution_count": null,
   "id": "53e32938-dff2-4090-9185-d89c8aa33e90",
   "metadata": {},
   "outputs": [],
   "source": []
  },
  {
   "cell_type": "code",
   "execution_count": null,
   "id": "92902e9a-1d21-4899-afc3-ec6724c79639",
   "metadata": {},
   "outputs": [],
   "source": []
  },
  {
   "cell_type": "code",
   "execution_count": null,
   "id": "49137dcf-7c74-4ef3-8edc-842718e4a5c7",
   "metadata": {},
   "outputs": [],
   "source": []
  },
  {
   "cell_type": "markdown",
   "id": "68f54e61-e864-4c03-a250-21e35d783f4b",
   "metadata": {},
   "source": [
    "---\n",
    "## References:\n",
    "[1]\n",
    "\n",
    "[2]\n",
    "\n",
    "[3] https://docs.python-requests.org/en/latest/index.html\n",
    "\n",
    "[4] https://docs.python.org/3/library/re.html\n",
    "\n",
    "[5] https://docs.python.org/3/library/re.html?highlight=re%20match#re.match\n",
    "\n",
    "[6] https://pandas.pydata.org/docs/reference/api/pandas.read_excel.html?highlight=read_excel#pandas.read_excel\n",
    "\n",
    "[7] https://camelot-py.readthedocs.io/en/master/\n",
    "\n",
    "[8] https://github.com/atlanhq/camelot/issues/278\n",
    "\n",
    "[9] https://stackoverflow.com/questions/55052989/how-to-iterate-through-a-list-of-data-frames-and-drop-all-data-if-a-specific-str\n",
    "\n",
    "[10] https://stackoverflow.com/questions/15325182/how-to-filter-rows-in-pandas-by-regex/48884429\n",
    "\n",
    "[11] https://stackoverflow.com/questions/68261366/right-way-to-reindex-a-dataframe\n"
   ]
  },
  {
   "cell_type": "markdown",
   "id": "8ac0a441-8ac1-47c6-8749-afaf0be36292",
   "metadata": {
    "tags": []
   },
   "source": [
    "## End"
   ]
  },
  {
   "cell_type": "code",
   "execution_count": null,
   "id": "a8001c47-4497-4881-999a-bc7345b02440",
   "metadata": {},
   "outputs": [],
   "source": []
  }
 ],
 "metadata": {
  "kernelspec": {
   "display_name": "Python 3",
   "language": "python",
   "name": "python3"
  },
  "language_info": {
   "codemirror_mode": {
    "name": "ipython",
    "version": 3
   },
   "file_extension": ".py",
   "mimetype": "text/x-python",
   "name": "python",
   "nbconvert_exporter": "python",
   "pygments_lexer": "ipython3",
   "version": "3.8.8"
  }
 },
 "nbformat": 4,
 "nbformat_minor": 5
}
